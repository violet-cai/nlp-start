{
 "cells": [
  {
   "metadata": {
    "ExecuteTime": {
     "end_time": "2024-10-24T07:20:55.133160Z",
     "start_time": "2024-10-24T07:20:55.129759Z"
    }
   },
   "cell_type": "code",
   "source": [
    "import torch\n",
    "import torch.nn as nn\n",
    "import torch.optim as optim\n",
    "from pygments.lexer import words"
   ],
   "id": "da8672d8cb572a22",
   "outputs": [],
   "execution_count": 7
  },
  {
   "metadata": {
    "ExecuteTime": {
     "end_time": "2024-10-24T07:20:55.204820Z",
     "start_time": "2024-10-24T07:20:55.201376Z"
    }
   },
   "cell_type": "code",
   "source": [
    "def make_batch(sentences, word_dict):\n",
    "    input_batch = []\n",
    "    target_batch = []\n",
    "    for sen in sentences:\n",
    "        words = sen.split()\n",
    "        input = [word_dict[n] for n in words[:-1]]  # create (1~n-1) as input\n",
    "        target = word_dict[words[-1]]  # create (n) as target, We usually call this 'casual language model'\n",
    "        input_batch.append(input)\n",
    "        target_batch.append(target)\n",
    "    return input_batch, target_batch"
   ],
   "id": "8e98f3cea904fdbd",
   "outputs": [],
   "execution_count": 8
  },
  {
   "metadata": {
    "ExecuteTime": {
     "end_time": "2024-10-24T07:23:50.223470Z",
     "start_time": "2024-10-24T07:23:50.219123Z"
    }
   },
   "cell_type": "code",
   "source": [
    "class NNLM(nn.Module):\n",
    "    def __init__(self, voc_size, m, n_step, n_hidden):\n",
    "        super(NNLM, self).__init__()\n",
    "        self.C = nn.Embedding(voc_size, m)\n",
    "        self.H = nn.Linear(n_step * m, n_hidden, bias=False)\n",
    "        self.d = nn.Parameter(torch.ones(n_hidden))\n",
    "        self.U = nn.Linear(n_hidden, voc_size, bias=False)\n",
    "        self.W = nn.Linear(n_step * m, voc_size, bias=False)\n",
    "        self.b = nn.Parameter(torch.ones(voc_size))\n",
    "\n",
    "    def forward(self, X):\n",
    "        X = self.C(X)  # X : [batch_size, n_step, m]\n",
    "        X = X.view(-1, n_step * m)  # [batch_size, n_step * m]\n",
    "        tanh = torch.tanh(self.d + self.H(X))  # [batch_size, n_hidden]\n",
    "        output = self.b + self.W(X) + self.U(tanh)  # [batch_size, n_class]\n",
    "        return output"
   ],
   "id": "7d966b1dc764ce27",
   "outputs": [],
   "execution_count": 21
  },
  {
   "metadata": {
    "ExecuteTime": {
     "end_time": "2024-10-24T07:23:50.514467Z",
     "start_time": "2024-10-24T07:23:50.511101Z"
    }
   },
   "cell_type": "code",
   "source": [
    "sentences = [\"i like dog\", \"i love coffee\", \"i hate milk\"]\n",
    "\n",
    "n_step = 2\n",
    "n_hidden = 2\n",
    "m = 2\n",
    "word_list = \" \".join(sentences).split()\n",
    "word_list = list(set(word_list))\n",
    "word_dict = {w: i for i, w in enumerate(word_list)}\n",
    "number_dict = {i: w for i, w in enumerate(word_list)}\n",
    "voc_size = len(word_dict)"
   ],
   "id": "bb96279c173e1fba",
   "outputs": [],
   "execution_count": 22
  },
  {
   "metadata": {
    "ExecuteTime": {
     "end_time": "2024-10-24T07:23:50.859598Z",
     "start_time": "2024-10-24T07:23:50.854872Z"
    }
   },
   "cell_type": "code",
   "source": [
    "model = NNLM(voc_size, m, n_step, n_hidden)\n",
    "criterion = nn.CrossEntropyLoss()\n",
    "optimizer = optim.Adam(model.parameters(), lr=0.001)"
   ],
   "id": "f8b69b8389f4f79e",
   "outputs": [],
   "execution_count": 23
  },
  {
   "metadata": {
    "ExecuteTime": {
     "end_time": "2024-10-24T07:24:14.365420Z",
     "start_time": "2024-10-24T07:24:11.436356Z"
    }
   },
   "cell_type": "code",
   "source": [
    "input_batch, target_batch = make_batch(sentences, word_dict)\n",
    "input_batch = torch.LongTensor(input_batch)\n",
    "target_batch = torch.LongTensor(target_batch)\n",
    "for epoch in range(5000):\n",
    "    optimizer.zero_grad()\n",
    "    output = model(input_batch)\n",
    "    loss = criterion(output, target_batch)\n",
    "    loss.backward()\n",
    "    optimizer.step()\n",
    "    if (epoch + 1) % 100 == 0:\n",
    "        print('Epoch:', '%04d' % (epoch + 1), 'loss =', '{:.6f}'.format(loss))"
   ],
   "id": "18f958e4dca896a0",
   "outputs": [
    {
     "name": "stdout",
     "output_type": "stream",
     "text": [
      "Epoch: 0100 cost = 0.011559\n",
      "Epoch: 0200 cost = 0.010265\n",
      "Epoch: 0300 cost = 0.009154\n",
      "Epoch: 0400 cost = 0.008195\n",
      "Epoch: 0500 cost = 0.007362\n",
      "Epoch: 0600 cost = 0.006634\n",
      "Epoch: 0700 cost = 0.005996\n",
      "Epoch: 0800 cost = 0.005434\n",
      "Epoch: 0900 cost = 0.004937\n",
      "Epoch: 1000 cost = 0.004496\n",
      "Epoch: 1100 cost = 0.004102\n",
      "Epoch: 1200 cost = 0.003751\n",
      "Epoch: 1300 cost = 0.003436\n",
      "Epoch: 1400 cost = 0.003153\n",
      "Epoch: 1500 cost = 0.002899\n",
      "Epoch: 1600 cost = 0.002668\n",
      "Epoch: 1700 cost = 0.002460\n",
      "Epoch: 1800 cost = 0.002271\n",
      "Epoch: 1900 cost = 0.002099\n",
      "Epoch: 2000 cost = 0.001942\n",
      "Epoch: 2100 cost = 0.001799\n",
      "Epoch: 2200 cost = 0.001668\n",
      "Epoch: 2300 cost = 0.001549\n",
      "Epoch: 2400 cost = 0.001439\n",
      "Epoch: 2500 cost = 0.001338\n",
      "Epoch: 2600 cost = 0.001246\n",
      "Epoch: 2700 cost = 0.001161\n",
      "Epoch: 2800 cost = 0.001082\n",
      "Epoch: 2900 cost = 0.001010\n",
      "Epoch: 3000 cost = 0.000943\n",
      "Epoch: 3100 cost = 0.000881\n",
      "Epoch: 3200 cost = 0.000823\n",
      "Epoch: 3300 cost = 0.000770\n",
      "Epoch: 3400 cost = 0.000721\n",
      "Epoch: 3500 cost = 0.000675\n",
      "Epoch: 3600 cost = 0.000633\n",
      "Epoch: 3700 cost = 0.000593\n",
      "Epoch: 3800 cost = 0.000556\n",
      "Epoch: 3900 cost = 0.000522\n",
      "Epoch: 4000 cost = 0.000490\n",
      "Epoch: 4100 cost = 0.000460\n",
      "Epoch: 4200 cost = 0.000432\n",
      "Epoch: 4300 cost = 0.000407\n",
      "Epoch: 4400 cost = 0.000382\n",
      "Epoch: 4500 cost = 0.000360\n",
      "Epoch: 4600 cost = 0.000338\n",
      "Epoch: 4700 cost = 0.000318\n",
      "Epoch: 4800 cost = 0.000300\n",
      "Epoch: 4900 cost = 0.000282\n",
      "Epoch: 5000 cost = 0.000266\n"
     ]
    }
   ],
   "execution_count": 26
  },
  {
   "metadata": {},
   "cell_type": "code",
   "outputs": [],
   "execution_count": null,
   "source": "",
   "id": "27dd2813b665b1d7"
  }
 ],
 "metadata": {
  "kernelspec": {
   "display_name": "Python 3",
   "language": "python",
   "name": "python3"
  },
  "language_info": {
   "codemirror_mode": {
    "name": "ipython",
    "version": 2
   },
   "file_extension": ".py",
   "mimetype": "text/x-python",
   "name": "python",
   "nbconvert_exporter": "python",
   "pygments_lexer": "ipython2",
   "version": "2.7.6"
  }
 },
 "nbformat": 4,
 "nbformat_minor": 5
}
