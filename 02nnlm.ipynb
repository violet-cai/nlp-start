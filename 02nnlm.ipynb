{
 "cells": [
  {
   "metadata": {
    "ExecuteTime": {
     "end_time": "2024-10-29T04:58:17.611924Z",
     "start_time": "2024-10-29T04:58:16.665434Z"
    }
   },
   "cell_type": "code",
   "source": [
    "import torch\n",
    "import torch.nn as nn\n",
    "import torch.optim as optim\n",
    "from pygments.lexer import words"
   ],
   "id": "da8672d8cb572a22",
   "outputs": [],
   "execution_count": 1
  },
  {
   "metadata": {
    "ExecuteTime": {
     "end_time": "2024-10-29T04:58:17.620587Z",
     "start_time": "2024-10-29T04:58:17.616825Z"
    }
   },
   "cell_type": "code",
   "source": [
    "def make_batch(sentences, word_dict):\n",
    "    input_batch = []\n",
    "    target_batch = []\n",
    "    for sen in sentences:\n",
    "        words = sen.split()\n",
    "        input = [word_dict[n] for n in words[:-1]]  # create (1~n-1) as input\n",
    "        target = word_dict[words[-1]]  # create (n) as target, We usually call this 'casual language model'\n",
    "        input_batch.append(input)\n",
    "        target_batch.append(target)\n",
    "    return input_batch, target_batch"
   ],
   "id": "8e98f3cea904fdbd",
   "outputs": [],
   "execution_count": 2
  },
  {
   "metadata": {
    "ExecuteTime": {
     "end_time": "2024-10-29T04:58:17.709452Z",
     "start_time": "2024-10-29T04:58:17.705652Z"
    }
   },
   "cell_type": "code",
   "source": [
    "class NNLM(nn.Module):\n",
    "    def __init__(self, voc_size, m, n_step, n_hidden):\n",
    "        super(NNLM, self).__init__()\n",
    "        self.C = nn.Embedding(voc_size, m)\n",
    "        self.H = nn.Linear(n_step * m, n_hidden, bias=False)\n",
    "        self.d = nn.Parameter(torch.ones(n_hidden))\n",
    "        self.U = nn.Linear(n_hidden, voc_size, bias=False)\n",
    "        self.W = nn.Linear(n_step * m, voc_size, bias=False)\n",
    "        self.b = nn.Parameter(torch.ones(voc_size))\n",
    "\n",
    "    def forward(self, X):\n",
    "        X = self.C(X)  # X : [batch_size, n_step, m]\n",
    "        X = X.view(-1, n_step * m)  # [batch_size, n_step * m]\n",
    "        tanh = torch.tanh(self.d + self.H(X))  # [batch_size, n_hidden]\n",
    "        output = self.b + self.W(X) + self.U(tanh)  # [batch_size, n_class]\n",
    "        return output"
   ],
   "id": "7d966b1dc764ce27",
   "outputs": [],
   "execution_count": 3
  },
  {
   "metadata": {
    "ExecuteTime": {
     "end_time": "2024-10-29T04:58:17.792078Z",
     "start_time": "2024-10-29T04:58:17.788942Z"
    }
   },
   "cell_type": "code",
   "source": [
    "sentences = [\"i like dog\", \"i love coffee\", \"i hate milk\"]\n",
    "\n",
    "n_step = 2\n",
    "n_hidden = 2\n",
    "m = 2\n",
    "word_list = \" \".join(sentences).split()\n",
    "word_list = list(set(word_list))\n",
    "word_dict = {w: i for i, w in enumerate(word_list)}\n",
    "number_dict = {i: w for i, w in enumerate(word_list)}\n",
    "voc_size = len(word_dict)"
   ],
   "id": "bb96279c173e1fba",
   "outputs": [],
   "execution_count": 4
  },
  {
   "metadata": {
    "ExecuteTime": {
     "end_time": "2024-10-29T04:58:18.386042Z",
     "start_time": "2024-10-29T04:58:17.839746Z"
    }
   },
   "cell_type": "code",
   "source": [
    "model = NNLM(voc_size, m, n_step, n_hidden)\n",
    "criterion = nn.CrossEntropyLoss()\n",
    "optimizer = optim.Adam(model.parameters(), lr=0.001)"
   ],
   "id": "f8b69b8389f4f79e",
   "outputs": [],
   "execution_count": 5
  },
  {
   "metadata": {
    "ExecuteTime": {
     "end_time": "2024-10-29T04:58:21.754360Z",
     "start_time": "2024-10-29T04:58:18.413530Z"
    }
   },
   "cell_type": "code",
   "source": [
    "input_batch, target_batch = make_batch(sentences, word_dict)\n",
    "input_batch = torch.LongTensor(input_batch)\n",
    "target_batch = torch.LongTensor(target_batch)\n",
    "for epoch in range(5000):\n",
    "    optimizer.zero_grad()\n",
    "    output = model(input_batch)\n",
    "    loss = criterion(output, target_batch)\n",
    "    loss.backward()\n",
    "    optimizer.step()\n",
    "    if (epoch + 1) % 100 == 0:\n",
    "        print('Epoch:', '%04d' % (epoch + 1), 'loss =', '{:.6f}'.format(loss))"
   ],
   "id": "18f958e4dca896a0",
   "outputs": [
    {
     "name": "stdout",
     "output_type": "stream",
     "text": [
      "Epoch: 0100 loss = 1.626768\n",
      "Epoch: 0200 loss = 1.144668\n",
      "Epoch: 0300 loss = 0.868681\n",
      "Epoch: 0400 loss = 0.714122\n",
      "Epoch: 0500 loss = 0.623982\n",
      "Epoch: 0600 loss = 0.565981\n",
      "Epoch: 0700 loss = 0.521377\n",
      "Epoch: 0800 loss = 0.475226\n",
      "Epoch: 0900 loss = 0.402908\n",
      "Epoch: 1000 loss = 0.263795\n",
      "Epoch: 1100 loss = 0.151724\n",
      "Epoch: 1200 loss = 0.097270\n",
      "Epoch: 1300 loss = 0.068839\n",
      "Epoch: 1400 loss = 0.051929\n",
      "Epoch: 1500 loss = 0.040870\n",
      "Epoch: 1600 loss = 0.033143\n",
      "Epoch: 1700 loss = 0.027481\n",
      "Epoch: 1800 loss = 0.023180\n",
      "Epoch: 1900 loss = 0.019821\n",
      "Epoch: 2000 loss = 0.017137\n",
      "Epoch: 2100 loss = 0.014954\n",
      "Epoch: 2200 loss = 0.013151\n",
      "Epoch: 2300 loss = 0.011642\n",
      "Epoch: 2400 loss = 0.010366\n",
      "Epoch: 2500 loss = 0.009277\n",
      "Epoch: 2600 loss = 0.008338\n",
      "Epoch: 2700 loss = 0.007524\n",
      "Epoch: 2800 loss = 0.006813\n",
      "Epoch: 2900 loss = 0.006189\n",
      "Epoch: 3000 loss = 0.005638\n",
      "Epoch: 3100 loss = 0.005149\n",
      "Epoch: 3200 loss = 0.004713\n",
      "Epoch: 3300 loss = 0.004323\n",
      "Epoch: 3400 loss = 0.003974\n",
      "Epoch: 3500 loss = 0.003659\n",
      "Epoch: 3600 loss = 0.003374\n",
      "Epoch: 3700 loss = 0.003117\n",
      "Epoch: 3800 loss = 0.002883\n",
      "Epoch: 3900 loss = 0.002670\n",
      "Epoch: 4000 loss = 0.002476\n",
      "Epoch: 4100 loss = 0.002298\n",
      "Epoch: 4200 loss = 0.002136\n",
      "Epoch: 4300 loss = 0.001987\n",
      "Epoch: 4400 loss = 0.001850\n",
      "Epoch: 4500 loss = 0.001724\n",
      "Epoch: 4600 loss = 0.001607\n",
      "Epoch: 4700 loss = 0.001500\n",
      "Epoch: 4800 loss = 0.001401\n",
      "Epoch: 4900 loss = 0.001309\n",
      "Epoch: 5000 loss = 0.001224\n"
     ]
    }
   ],
   "execution_count": 6
  },
  {
   "metadata": {
    "ExecuteTime": {
     "end_time": "2024-10-29T04:58:21.834062Z",
     "start_time": "2024-10-29T04:58:21.831667Z"
    }
   },
   "cell_type": "code",
   "source": "",
   "id": "27dd2813b665b1d7",
   "outputs": [],
   "execution_count": null
  }
 ],
 "metadata": {
  "kernelspec": {
   "display_name": "torch",
   "language": "python",
   "name": "torch"
  },
  "language_info": {
   "codemirror_mode": {
    "name": "ipython",
    "version": 2
   },
   "file_extension": ".py",
   "mimetype": "text/x-python",
   "name": "python",
   "nbconvert_exporter": "python",
   "pygments_lexer": "ipython2",
   "version": "2.7.6"
  }
 },
 "nbformat": 4,
 "nbformat_minor": 5
}
