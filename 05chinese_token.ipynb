{
 "cells": [
  {
   "cell_type": "code",
   "id": "initial_id",
   "metadata": {
    "collapsed": true,
    "ExecuteTime": {
     "end_time": "2024-10-24T14:56:55.127239Z",
     "start_time": "2024-10-24T14:56:55.124137Z"
    }
   },
   "source": [
    "'''\n",
    "E代表词语中最后一个字\n",
    "B代表词的首个字\n",
    "M代表词中间的字\n",
    "S代表单字成词\n",
    "'''\n",
    "STATES = {'B', 'M', 'E', 'S'}"
   ],
   "outputs": [],
   "execution_count": 11
  },
  {
   "metadata": {
    "ExecuteTime": {
     "end_time": "2024-10-24T14:56:55.227854Z",
     "start_time": "2024-10-24T14:56:55.217526Z"
    }
   },
   "cell_type": "code",
   "source": [
    "import pickle\n",
    "import json\n",
    "\n",
    "EPS = 0.0001\n",
    "\n",
    "\n",
    "class HMModel:\n",
    "    def __init__(self):\n",
    "        self.trans_mat = {}  # trans_mat[status][status] = int\n",
    "        self.emit_mat = {}  # emit_mat[status][observe] = int\n",
    "        self.init_vec = {}  # init_vec[status] = int\n",
    "        self.state_count = {}  # state_count[status] = int\n",
    "        self.states = {}\n",
    "        self.inited = False\n",
    "\n",
    "    def setup(self):\n",
    "        for state in self.states:\n",
    "            # build trans_mat\n",
    "            self.trans_mat[state] = {}\n",
    "            for target in self.states:\n",
    "                self.trans_mat[state][target] = 0.0\n",
    "            # build emit_mat\n",
    "            self.emit_mat[state] = {}\n",
    "            # build init_vec\n",
    "            self.init_vec[state] = 0\n",
    "            # build state_count\n",
    "            self.state_count[state] = 0\n",
    "        self.inited = True\n",
    "\n",
    "    def do_train(self, observes, states):\n",
    "        if not self.inited:\n",
    "            self.setup()\n",
    "\n",
    "        for i in range(len(states)):\n",
    "            if i == 0:\n",
    "                self.init_vec[states[0]] += 1\n",
    "                self.state_count[states[0]] += 1\n",
    "            else:\n",
    "                self.trans_mat[states[i - 1]][states[i]] += 1\n",
    "                self.state_count[states[i]] += 1\n",
    "                if observes[i] not in self.emit_mat[states[i]]:\n",
    "                    self.emit_mat[states[i]][observes[i]] = 1\n",
    "                else:\n",
    "                    self.emit_mat[states[i]][observes[i]] += 1\n",
    "\n",
    "    def get_prob(self):\n",
    "        init_vec = {}\n",
    "        trans_mat = {}\n",
    "        emit_mat = {}\n",
    "        default = max(self.state_count.values())  # avoid ZeroDivisionError\n",
    "        # convert init_vec to prob\n",
    "        for key in self.init_vec:\n",
    "            if self.state_count[key] != 0:\n",
    "                init_vec[key] = float(self.init_vec[key]) / \\\n",
    "                                self.state_count[key]\n",
    "            else:\n",
    "                init_vec[key] = float(self.init_vec[key]) / default\n",
    "        # convert trans_mat to prob\n",
    "        for key1 in self.trans_mat:\n",
    "            trans_mat[key1] = {}\n",
    "            for key2 in self.trans_mat[key1]:\n",
    "                if self.state_count[key1] != 0:\n",
    "                    trans_mat[key1][key2] = float(\n",
    "                        self.trans_mat[key1][key2]) / self.state_count[key1]\n",
    "                else:\n",
    "                    trans_mat[key1][key2] = float(\n",
    "                        self.trans_mat[key1][key2]) / default\n",
    "        # convert emit_mat to prob\n",
    "        for key1 in self.emit_mat:\n",
    "            emit_mat[key1] = {}\n",
    "            for key2 in self.emit_mat[key1]:\n",
    "                if self.state_count[key1] != 0:\n",
    "                    emit_mat[key1][key2] = float(\n",
    "                        self.emit_mat[key1][key2]) / self.state_count[key1]\n",
    "                else:\n",
    "                    emit_mat[key1][key2] = float(\n",
    "                        self.emit_mat[key1][key2]) / default\n",
    "        return init_vec, trans_mat, emit_mat\n",
    "\n",
    "    def do_predict(self, sequence):\n",
    "        tab = [{}]\n",
    "        path = {}\n",
    "        init_vec, trans_mat, emit_mat = self.get_prob()\n",
    "\n",
    "        # init\n",
    "        for state in self.states:\n",
    "            tab[0][state] = init_vec[state] * \\\n",
    "                            emit_mat[state].get(sequence[0], EPS)\n",
    "            path[state] = [state]\n",
    "\n",
    "        # build dynamic search table\n",
    "        for t in range(1, len(sequence)):\n",
    "            tab.append({})\n",
    "            new_path = {}\n",
    "            for state1 in self.states:\n",
    "                items = []\n",
    "                for state2 in self.states:\n",
    "                    if tab[t - 1][state2] == 0:\n",
    "                        continue\n",
    "                    prob = tab[t - 1][state2] * trans_mat[state2].get(\n",
    "                        state1, EPS) * emit_mat[state1].get(sequence[t], EPS)\n",
    "                    items.append((prob, state2))\n",
    "                best = max(items)  # best: (prob, state)\n",
    "                tab[t][state1] = best[0]\n",
    "                new_path[state1] = path[best[1]] + [state1]\n",
    "            path = new_path\n",
    "\n",
    "        # search best path\n",
    "        prob, state = max([(tab[len(sequence) - 1][state], state)\n",
    "                           for state in self.states])\n",
    "        return path[state]"
   ],
   "id": "6424bd7807c9a7f8",
   "outputs": [],
   "execution_count": 12
  },
  {
   "metadata": {
    "ExecuteTime": {
     "end_time": "2024-10-24T14:56:55.284612Z",
     "start_time": "2024-10-24T14:56:55.279858Z"
    }
   },
   "cell_type": "code",
   "source": [
    "def get_tags(src):\n",
    "    tags = []\n",
    "    if len(src) == 1:\n",
    "        tags = ['S']\n",
    "    elif len(src) == 2:\n",
    "        tags = ['B', 'E']\n",
    "    else:\n",
    "        m_num = len(src) - 2\n",
    "        tags.append('B')\n",
    "        tags.extend(['M'] * m_num)\n",
    "        tags.append('S')\n",
    "    return tags\n",
    "\n",
    "\n",
    "def cut_sent(src, tags):\n",
    "    word_list = []\n",
    "    start = -1\n",
    "    started = False\n",
    "\n",
    "    if len(tags) != len(src):\n",
    "        return None\n",
    "\n",
    "    if tags[-1] not in {'S', 'E'}:\n",
    "        if tags[-2] in {'S', 'E'}:\n",
    "            tags[-1] = 'S'  # for tags: r\".*(S|E)(B|M)\"\n",
    "        else:\n",
    "            tags[-1] = 'E'  # for tags: r\".*(B|M)(B|M)\"\n",
    "\n",
    "    for i in range(len(tags)):\n",
    "        if tags[i] == 'S':\n",
    "            if started:\n",
    "                started = False\n",
    "                word_list.append(src[start:i])  # for tags: r\"BM*S\"\n",
    "            word_list.append(src[i])\n",
    "        elif tags[i] == 'B':\n",
    "            if started:\n",
    "                word_list.append(src[start:i])  # for tags: r\"BM*B\"\n",
    "            start = i\n",
    "            started = True\n",
    "        elif tags[i] == 'E':\n",
    "            started = False\n",
    "            word = src[start:i + 1]\n",
    "            word_list.append(word)\n",
    "        elif tags[i] == 'M':\n",
    "            continue\n",
    "    return word_list"
   ],
   "id": "930d9377bd185fb7",
   "outputs": [],
   "execution_count": 13
  },
  {
   "metadata": {
    "ExecuteTime": {
     "end_time": "2024-10-24T14:56:55.350129Z",
     "start_time": "2024-10-24T14:56:55.345480Z"
    }
   },
   "cell_type": "code",
   "source": [
    "class HMMSegger(HMModel):\n",
    "\n",
    "    def __init__(self, *args, **kwargs):\n",
    "        super(HMMSegger, self).__init__(*args, **kwargs)\n",
    "        self.states = STATES\n",
    "        self.data = None\n",
    "\n",
    "    def load_data(self, filename):\n",
    "        self.data = open(filename, 'r', encoding=\"utf-8\")\n",
    "\n",
    "    def train(self):\n",
    "        if not self.inited:\n",
    "            self.setup()\n",
    "\n",
    "        # train\n",
    "        for line in self.data:\n",
    "            # pre processing\n",
    "            line = line.strip()\n",
    "            if not line:\n",
    "                continue\n",
    "\n",
    "            # get observes\n",
    "            observes = []\n",
    "            for i in range(len(line)):\n",
    "                if line[i] == \" \":\n",
    "                    continue\n",
    "                observes.append(line[i])\n",
    "\n",
    "            # get states\n",
    "            words = line.split(\" \")  # spilt word by whitespace\n",
    "            states = []\n",
    "            for word in words:\n",
    "                if '/' in word:\n",
    "                    word = word.split('/')[0]\n",
    "                states.extend(get_tags(word))\n",
    "\n",
    "            # resume train\n",
    "            self.do_train(observes, states)\n",
    "\n",
    "    def cut(self, sentence):\n",
    "        try:\n",
    "            tags = self.do_predict(sentence)\n",
    "            return cut_sent(sentence, tags)\n",
    "        except:\n",
    "            return sentence"
   ],
   "id": "714f668eeb4ae2bd",
   "outputs": [],
   "execution_count": 14
  },
  {
   "metadata": {
    "ExecuteTime": {
     "end_time": "2024-10-24T14:56:55.415900Z",
     "start_time": "2024-10-24T14:56:55.407856Z"
    }
   },
   "cell_type": "code",
   "source": [
    "segger = HMMSegger()\n",
    "segger.load_data(\"data/seg_data.txt\")\n",
    "segger.train()\n",
    "segger.cut(\"长春市长春节讲话\")"
   ],
   "id": "dee8ee49994ff44e",
   "outputs": [
    {
     "data": {
      "text/plain": [
       "['长春', '市长', '春节', '讲话']"
      ]
     },
     "execution_count": 15,
     "metadata": {},
     "output_type": "execute_result"
    }
   ],
   "execution_count": 15
  },
  {
   "metadata": {
    "ExecuteTime": {
     "end_time": "2024-10-24T14:57:08.821392Z",
     "start_time": "2024-10-24T14:57:08.816365Z"
    }
   },
   "cell_type": "code",
   "source": [
    "cases = [\n",
    "    \"我来到北京清华大学\",\n",
    "    \"长春市长春节讲话\",\n",
    "    \"我们去野生动物园玩\",\n",
    "    \"我只是做了一些微小的工作\",\n",
    "]\n",
    "for case in cases:\n",
    "    result = segger.cut(case)\n",
    "    print(result)"
   ],
   "id": "fd250cf68e9ad28",
   "outputs": [
    {
     "name": "stdout",
     "output_type": "stream",
     "text": [
      "['我', '来到', '北京', '清华', '大学']\n",
      "['长春', '市长', '春节', '讲话']\n",
      "['我们', '去', '野生动物', '园', '玩']\n",
      "['我只', '是做', '了一', '些微', '小的', '工作']\n"
     ]
    }
   ],
   "execution_count": 16
  },
  {
   "metadata": {},
   "cell_type": "code",
   "outputs": [],
   "execution_count": null,
   "source": "",
   "id": "e609b53808c864bd"
  }
 ],
 "metadata": {
  "kernelspec": {
   "display_name": "torch",
   "language": "python",
   "name": "torch"
  },
  "language_info": {
   "codemirror_mode": {
    "name": "ipython",
    "version": 2
   },
   "file_extension": ".py",
   "mimetype": "text/x-python",
   "name": "python",
   "nbconvert_exporter": "python",
   "pygments_lexer": "ipython2",
   "version": "2.7.6"
  }
 },
 "nbformat": 4,
 "nbformat_minor": 5
}
