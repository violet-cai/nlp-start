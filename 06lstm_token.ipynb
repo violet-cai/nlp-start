{
 "cells": [
  {
   "cell_type": "code",
   "id": "initial_id",
   "metadata": {
    "collapsed": true,
    "ExecuteTime": {
     "end_time": "2024-10-25T08:04:19.466934Z",
     "start_time": "2024-10-25T08:04:19.463629Z"
    }
   },
   "source": [
    "import torch\n",
    "import torch.autograd as autograd\n",
    "import torch.nn as nn\n",
    "import torch.nn.functional as F\n",
    "import torch.optim as optim\n",
    "from transformers.testing_utils import require_torch"
   ],
   "outputs": [],
   "execution_count": 8
  },
  {
   "metadata": {
    "ExecuteTime": {
     "end_time": "2024-10-25T08:04:19.521539Z",
     "start_time": "2024-10-25T08:04:19.512508Z"
    }
   },
   "cell_type": "code",
   "source": [
    "# nn.LSTM(input_size, hidden_size)\n",
    "lstm = nn.LSTM(5, 3, num_layers=5, bidirectional=True)\n",
    "# input:(seq_len, batch, input_size)\n",
    "inputs = torch.randn(20, 10, 5)\n",
    "# h:(num_layers * num_directions, batch, hidden_size)\n",
    "h = torch.randn(10, 10, 3)\n",
    "# c:(num_layers * num_directions, batch, hidden_size)\n",
    "c = torch.randn(10, 10, 3)\n",
    "# out:(seq_len, batch, num_directions * hidden_size)\n",
    "out, (h, c) = lstm(inputs, (h, c))\n",
    "print(out.size())\n",
    "print(h.size())\n",
    "print(c.size())"
   ],
   "id": "32fff8da091bcd0e",
   "outputs": [
    {
     "name": "stdout",
     "output_type": "stream",
     "text": [
      "torch.Size([20, 10, 6])\n",
      "torch.Size([10, 10, 3])\n",
      "torch.Size([10, 10, 3])\n"
     ]
    }
   ],
   "execution_count": 9
  },
  {
   "metadata": {
    "ExecuteTime": {
     "end_time": "2024-10-25T08:04:19.627937Z",
     "start_time": "2024-10-25T08:04:19.623039Z"
    }
   },
   "cell_type": "code",
   "source": [
    "def prepare_sequence(seq, to_idx):\n",
    "    idx = [to_idx[w] for w in seq]\n",
    "    tensor = torch.LongTensor(idx)\n",
    "    return tensor\n",
    "\n",
    "\n",
    "training_data = [\n",
    "    (\"The dog ate the apple\".split(), [\"DET\", \"NN\", \"V\", \"DET\", \"NN\"]),\n",
    "    (\"Everybody read that book\".split(), [\"NN\", \"V\", \"DET\", \"NN\"])\n",
    "]\n",
    "word_to_idx = {}\n",
    "for sent, tags in training_data:\n",
    "    for word in sent:\n",
    "        if word not in word_to_idx:\n",
    "            word_to_idx[word] = len(word_to_idx)\n",
    "print(word_to_idx)\n",
    "print(training_data)\n",
    "tag_to_idx = {\"DET\": 0, \"NN\": 1, \"V\": 2}"
   ],
   "id": "169d6b7444a62c9c",
   "outputs": [
    {
     "name": "stdout",
     "output_type": "stream",
     "text": [
      "{'The': 0, 'dog': 1, 'ate': 2, 'the': 3, 'apple': 4, 'Everybody': 5, 'read': 6, 'that': 7, 'book': 8}\n",
      "[(['The', 'dog', 'ate', 'the', 'apple'], ['DET', 'NN', 'V', 'DET', 'NN']), (['Everybody', 'read', 'that', 'book'], ['NN', 'V', 'DET', 'NN'])]\n"
     ]
    }
   ],
   "execution_count": 10
  },
  {
   "metadata": {
    "ExecuteTime": {
     "end_time": "2024-10-25T08:04:19.686175Z",
     "start_time": "2024-10-25T08:04:19.683354Z"
    }
   },
   "cell_type": "code",
   "source": [
    "EMBEDDING_DIM = 6\n",
    "HIDDEN_DIM = 6"
   ],
   "id": "78ff3730a25fa3fb",
   "outputs": [],
   "execution_count": 11
  },
  {
   "metadata": {
    "ExecuteTime": {
     "end_time": "2024-10-25T08:04:19.735673Z",
     "start_time": "2024-10-25T08:04:19.730710Z"
    }
   },
   "cell_type": "code",
   "source": [
    "class LSTMTagger(nn.Module):\n",
    "    def __init__(self, embedding_dim, hidden_dim, vocab_size, target_size):\n",
    "        super(LSTMTagger, self).__init__()\n",
    "        # hidden_dim:hidden_size\n",
    "        # embedding_dim:input_size\n",
    "        self.hidden_dim = hidden_dim\n",
    "        self.word_embeddings = nn.Embedding(vocab_size, embedding_dim)\n",
    "        self.lstm = nn.LSTM(embedding_dim, hidden_dim)\n",
    "        self.fc = nn.Linear(hidden_dim, target_size)\n",
    "        self.hidden = self.init_hidden()\n",
    "\n",
    "    def init_hidden(self):\n",
    "        return (torch.zeros(1, 1, self.hidden_dim),\n",
    "                torch.zeros(1, 1, self.hidden_dim))\n",
    "\n",
    "    def forward(self, x):\n",
    "        # x: seq_len * vocab_size\n",
    "        embedding = self.word_embeddings(x)\n",
    "        # embedding:seq_len * input_size\n",
    "        embedding = embedding.view(len(x), 1, -1)\n",
    "        lstm_out, self.hidden = self.lstm(embedding, self.hidden)\n",
    "        tag_space = self.fc(lstm_out.view(len(x), -1))\n",
    "        tag_scores = F.log_softmax(tag_space, dim=1)\n",
    "        return tag_scores"
   ],
   "id": "e6fddaf53df16704",
   "outputs": [],
   "execution_count": 12
  },
  {
   "metadata": {
    "ExecuteTime": {
     "end_time": "2024-10-25T08:04:19.784588Z",
     "start_time": "2024-10-25T08:04:19.780667Z"
    }
   },
   "cell_type": "code",
   "source": [
    "model = LSTMTagger(EMBEDDING_DIM, HIDDEN_DIM, len(word_to_idx), len(tag_to_idx))\n",
    "loss_fn = nn.NLLLoss()\n",
    "optimizer = optim.Adam(model.parameters(), lr=0.1)"
   ],
   "id": "ef317cbd2dba53ba",
   "outputs": [],
   "execution_count": 13
  },
  {
   "metadata": {
    "ExecuteTime": {
     "end_time": "2024-10-25T08:04:22.386502Z",
     "start_time": "2024-10-25T08:04:19.808042Z"
    }
   },
   "cell_type": "code",
   "source": [
    "inputs = prepare_sequence(training_data[0][0], word_to_idx)\n",
    "print(training_data[0][0])\n",
    "tag_scores = model(inputs)\n",
    "print(tag_scores)\n",
    "\n",
    "for epoch in range(1000):\n",
    "    for sentence, tags in training_data:\n",
    "        model.zero_grad()\n",
    "        model.hidden = model.init_hidden()\n",
    "        sentence_in = prepare_sequence(sentence, word_to_idx)\n",
    "        targets = prepare_sequence(tags, tag_to_idx)\n",
    "        tag_scores = model(sentence_in)\n",
    "        targets = targets.view(-1)\n",
    "        tag_scores = tag_scores.view(-1, tag_scores.size(-1))\n",
    "        loss = loss_fn(tag_scores, targets)\n",
    "        loss.backward()\n",
    "        optimizer.step()\n",
    "\n",
    "inputs = prepare_sequence(training_data[0][0], word_to_idx)\n",
    "tag_scores = model(inputs)\n",
    "print(tag_scores)"
   ],
   "id": "8bb6e9e800fdb297",
   "outputs": [
    {
     "name": "stdout",
     "output_type": "stream",
     "text": [
      "['The', 'dog', 'ate', 'the', 'apple']\n",
      "tensor([[-1.2011, -1.3253, -0.8361],\n",
      "        [-1.2071, -1.2434, -0.8854],\n",
      "        [-1.2073, -1.2521, -0.8792],\n",
      "        [-1.2665, -1.2063, -0.8702],\n",
      "        [-1.2653, -1.2015, -0.8745]], grad_fn=<LogSoftmaxBackward0>)\n",
      "tensor([[-1.6212e-05, -1.2883e+01, -1.1199e+01],\n",
      "        [-1.4843e+01, -4.2795e-05, -1.0067e+01],\n",
      "        [-1.1543e+01, -1.1592e+01, -1.8954e-05],\n",
      "        [-8.8214e-06, -1.3240e+01, -1.1857e+01],\n",
      "        [-1.6707e+01, -1.1921e-07, -1.6236e+01]],\n",
      "       grad_fn=<LogSoftmaxBackward0>)\n"
     ]
    }
   ],
   "execution_count": 14
  },
  {
   "metadata": {
    "ExecuteTime": {
     "end_time": "2024-10-25T08:04:22.408368Z",
     "start_time": "2024-10-25T08:04:22.405488Z"
    }
   },
   "cell_type": "code",
   "source": "",
   "id": "855a50a5de1e665d",
   "outputs": [],
   "execution_count": null
  }
 ],
 "metadata": {
  "kernelspec": {
   "display_name": "torch",
   "language": "python",
   "name": "torch"
  },
  "language_info": {
   "codemirror_mode": {
    "name": "ipython",
    "version": 2
   },
   "file_extension": ".py",
   "mimetype": "text/x-python",
   "name": "python",
   "nbconvert_exporter": "python",
   "pygments_lexer": "ipython2",
   "version": "2.7.6"
  }
 },
 "nbformat": 4,
 "nbformat_minor": 5
}
